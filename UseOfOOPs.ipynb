{
 "cells": [
  {
   "attachments": {},
   "cell_type": "markdown",
   "metadata": {},
   "source": [
    "## Normal class without the use of dataclasses"
   ]
  },
  {
   "cell_type": "code",
   "execution_count": 1,
   "metadata": {},
   "outputs": [],
   "source": [
    "class Person:\n",
    "\n",
    "    first_name : str\n",
    "    last_name : str\n",
    "    age : int\n",
    "    job : str"
   ]
  },
  {
   "cell_type": "code",
   "execution_count": 2,
   "metadata": {},
   "outputs": [
    {
     "ename": "TypeError",
     "evalue": "Person() takes no arguments",
     "output_type": "error",
     "traceback": [
      "\u001b[0;31m---------------------------------------------------------------------------\u001b[0m",
      "\u001b[0;31mTypeError\u001b[0m                                 Traceback (most recent call last)",
      "Cell \u001b[0;32mIn[2], line 1\u001b[0m\n\u001b[0;32m----> 1\u001b[0m x \u001b[39m=\u001b[39m Person(\u001b[39m\"\u001b[39;49m\u001b[39msub\u001b[39;49m\u001b[39m\"\u001b[39;49m, \u001b[39m\"\u001b[39;49m\u001b[39mdas\u001b[39;49m\u001b[39m\"\u001b[39;49m, \u001b[39m20\u001b[39;49m, \u001b[39m\"\u001b[39;49m\u001b[39mDA\u001b[39;49m\u001b[39m\"\u001b[39;49m)\n\u001b[1;32m      2\u001b[0m \u001b[39mprint\u001b[39m(x\u001b[39m.\u001b[39mfirst_name)\n",
      "\u001b[0;31mTypeError\u001b[0m: Person() takes no arguments"
     ]
    }
   ],
   "source": [
    "x = Person(\"sub\", \"das\", 20, \"DA\")\n",
    "print(x.first_name)"
   ]
  },
  {
   "attachments": {},
   "cell_type": "markdown",
   "metadata": {},
   "source": [
    "<b> Comments </b>\n",
    "\n",
    "1. You can see without dataclass and init() it doesn't allow to instantiate a class object."
   ]
  },
  {
   "cell_type": "code",
   "execution_count": 1,
   "metadata": {},
   "outputs": [
    {
     "name": "stdout",
     "output_type": "stream",
     "text": [
      "sub\n"
     ]
    }
   ],
   "source": [
    "class Person:\n",
    "\n",
    "    def __init__(self, first_name, last_name, age, job):\n",
    "        self.first_name = first_name\n",
    "        self.last_name = last_name\n",
    "        self.age = age\n",
    "        self.job = job\n",
    "\n",
    "x = Person(\"sub\", \"das\", 20, \"DA\")\n",
    "print(x.first_name)"
   ]
  },
  {
   "cell_type": "code",
   "execution_count": 5,
   "metadata": {},
   "outputs": [
    {
     "name": "stdout",
     "output_type": "stream",
     "text": [
      "sub\n"
     ]
    }
   ],
   "source": [
    "class Person:\n",
    "\n",
    "    first_name : str\n",
    "    last_name : str\n",
    "    age : int\n",
    "    job : str\n",
    "\n",
    "    def __init__(self, first_name, last_name, age, job):\n",
    "        self.first_name = first_name\n",
    "        self.last_name = last_name\n",
    "        self.age = age\n",
    "        self.job = job\n",
    "\n",
    "x = Person(\"sub\", \"das\", 20, \"DA\")\n",
    "print(x.first_name)"
   ]
  },
  {
   "cell_type": "markdown",
   "metadata": {},
   "source": [
    "<b> Comments </b>\n",
    "\n",
    "Now it works"
   ]
  },
  {
   "attachments": {},
   "cell_type": "markdown",
   "metadata": {},
   "source": [
    "## Use of Dataclasses\n",
    "\n",
    "Useful links :</br> \n",
    "https://towardsdatascience.com/9-reasons-why-you-should-start-using-python-dataclasses-98271adadc66 </br>\n",
    "https://www.infoworld.com/article/3563878/how-to-use-python-dataclasses.html </br>"
   ]
  },
  {
   "cell_type": "code",
   "execution_count": 3,
   "metadata": {},
   "outputs": [
    {
     "name": "stdout",
     "output_type": "stream",
     "text": [
      "sub\n"
     ]
    }
   ],
   "source": [
    "import dataclasses\n",
    "\n",
    "@dataclasses.dataclass\n",
    "class Person:\n",
    "\n",
    "    first_name : str\n",
    "    last_name : str\n",
    "    age : int\n",
    "    job : str\n",
    "\n",
    "z = Person(\"sub\", \"das\", 20, \"DA\")\n",
    "print(z.first_name)"
   ]
  },
  {
   "cell_type": "code",
   "execution_count": 7,
   "metadata": {},
   "outputs": [
    {
     "name": "stdout",
     "output_type": "stream",
     "text": [
      "Person(first_name='sub', last_name='das', age=20, job='DA')\n"
     ]
    }
   ],
   "source": [
    "print(z)"
   ]
  },
  {
   "attachments": {},
   "cell_type": "markdown",
   "metadata": {},
   "source": [
    "<b> Comments </b>\n",
    "\n",
    "1. The dataclass decorator adds some additional methods to it. like : init(), repr, etc."
   ]
  },
  {
   "cell_type": "code",
   "execution_count": 8,
   "metadata": {},
   "outputs": [
    {
     "name": "stdout",
     "output_type": "stream",
     "text": [
      "Ahmed Besbes\n"
     ]
    }
   ],
   "source": [
    "@dataclasses.dataclass\n",
    "class Person:\n",
    "\n",
    "    first_name : str = \"Ahmed\"\n",
    "    last_name : str = \"Besbes\"\n",
    "    age : int = 30\n",
    "    job : str = \"DS\"\n",
    "    full_name : str = dataclasses.field(init=False, repr=False)\n",
    "\n",
    "    def __post_init__(self):\n",
    "        self.full_name = self.first_name + \" \" + self.last_name \n",
    "\n",
    "z = Person()\n",
    "print(z.full_name)"
   ]
  },
  {
   "cell_type": "code",
   "execution_count": 4,
   "metadata": {},
   "outputs": [
    {
     "data": {
      "text/plain": [
       "{'first_name': str, 'last_name': str, 'age': int, 'job': str}"
      ]
     },
     "execution_count": 4,
     "metadata": {},
     "output_type": "execute_result"
    }
   ],
   "source": [
    "Person.__annotations__"
   ]
  },
  {
   "cell_type": "code",
   "execution_count": null,
   "metadata": {},
   "outputs": [],
   "source": []
  }
 ],
 "metadata": {
  "kernelspec": {
   "display_name": "Python 3",
   "language": "python",
   "name": "python3"
  },
  "language_info": {
   "codemirror_mode": {
    "name": "ipython",
    "version": 3
   },
   "file_extension": ".py",
   "mimetype": "text/x-python",
   "name": "python",
   "nbconvert_exporter": "python",
   "pygments_lexer": "ipython3",
   "version": "3.9.1"
  },
  "orig_nbformat": 4
 },
 "nbformat": 4,
 "nbformat_minor": 2
}
