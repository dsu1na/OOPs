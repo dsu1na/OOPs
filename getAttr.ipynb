{
 "cells": [
  {
   "attachments": {},
   "cell_type": "markdown",
   "metadata": {},
   "source": [
    "## Useful links to articles: \n",
    "\n",
    "1. https://medium.com/@pranaygore/using-getattr-setattr-delattr-hasattr-in-python-6d79c6f9fda3 </br>\n",
    "2. https://www.sololearn.com/Discuss/2756004/setattr-vs-regular-assignment </br>"
   ]
  },
  {
   "attachments": {},
   "cell_type": "markdown",
   "metadata": {},
   "source": [
    "## GETATTR"
   ]
  },
  {
   "cell_type": "code",
   "execution_count": 3,
   "metadata": {},
   "outputs": [
    {
     "name": "stdout",
     "output_type": "stream",
     "text": [
      "30\n",
      "45\n",
      "50\n"
     ]
    }
   ],
   "source": [
    "class Employee:\n",
    "    emp_comp = \"Amazon\"\n",
    "    emp_age = 30\n",
    "    default_age = 50\n",
    "\n",
    "    def defaultMethod(self):\n",
    "        print(\"This is a default method\")\n",
    "\n",
    "e = Employee()\n",
    "\n",
    "print(getattr(e, 'emp_age'))\n",
    "print(getattr(e, 'emp_age_other', 45))\n",
    "print(getattr(e, 'emp_age_other', e.default_age))"
   ]
  },
  {
   "attachments": {},
   "cell_type": "markdown",
   "metadata": {},
   "source": [
    "## SETATTR\n",
    "\n",
    "1. setattr() is similar to assigning value to an attribute (ex : classInstance.name = 'dev') </br>\n",
    "2. The only difference is if any attribute is not present in the classInstance then setattr will create one and assign it a value </br>\n",
    "\n",
    "useful link : https://www.pythonpool.com/python-setattr/#:~:text=The%20main%20difference%20between%20the,can%20directly%20assign%20the%20value. </br>"
   ]
  },
  {
   "cell_type": "code",
   "execution_count": 1,
   "metadata": {},
   "outputs": [
    {
     "name": "stdout",
     "output_type": "stream",
     "text": [
      "pump\n",
      "50\n"
     ]
    }
   ],
   "source": [
    "class Device:\n",
    "\n",
    "    def __init__(self, name, vol):\n",
    "        self.name = name\n",
    "        self.vol = vol\n",
    "\n",
    "dev1 = Device('pump', 50)\n",
    "\n",
    "print(dev1.name)\n",
    "print(dev1.vol)"
   ]
  },
  {
   "cell_type": "code",
   "execution_count": 2,
   "metadata": {},
   "outputs": [
    {
     "name": "stdout",
     "output_type": "stream",
     "text": [
      "motor\n"
     ]
    }
   ],
   "source": [
    "setattr(dev1, 'name', 'motor')\n",
    "print(dev1.name)"
   ]
  },
  {
   "cell_type": "code",
   "execution_count": 3,
   "metadata": {},
   "outputs": [
    {
     "name": "stdout",
     "output_type": "stream",
     "text": [
      "300\n"
     ]
    }
   ],
   "source": [
    "setattr(dev1, 'price', 300)\n",
    "print(dev1.price)"
   ]
  },
  {
   "cell_type": "code",
   "execution_count": 4,
   "metadata": {},
   "outputs": [
    {
     "name": "stdout",
     "output_type": "stream",
     "text": [
      "BLR\n"
     ]
    }
   ],
   "source": [
    "dev1.location = 'BLR'\n",
    "print(dev1.location)"
   ]
  },
  {
   "attachments": {},
   "cell_type": "markdown",
   "metadata": {},
   "source": [
    "## DYNAMICALLY CREATING CLASS\n",
    "\n",
    "Useful link : https://www.geeksforgeeks.org/create-classes-dynamically-in-python/ </br>"
   ]
  },
  {
   "cell_type": "code",
   "execution_count": 5,
   "metadata": {},
   "outputs": [
    {
     "name": "stdout",
     "output_type": "stream",
     "text": [
      "constructor argument\n",
      "Geeks 4 geeks !\n",
      "1706256\n",
      "Geeks for Geeks\n",
      "Class Dynamically Created !\n"
     ]
    }
   ],
   "source": [
    "# program to create class dynamically\n",
    "  \n",
    "# constructor\n",
    "def constructor(self, arg):\n",
    "    self.constructor_arg = arg\n",
    "  \n",
    "# method\n",
    "def displayMethod(self, arg):\n",
    "    print(arg)\n",
    "  \n",
    "# class method\n",
    "@classmethod\n",
    "def classMethod(cls, arg):\n",
    "    print(arg)\n",
    "  \n",
    "# creating class dynamically\n",
    "Geeks = type(\"Geeks\", (object, ), {\n",
    "    # constructor\n",
    "    \"__init__\": constructor,\n",
    "      \n",
    "    # data members\n",
    "    \"string_attribute\": \"Geeks 4 geeks !\",\n",
    "    \"int_attribute\": 1706256,\n",
    "      \n",
    "    # member functions\n",
    "    \"func_arg\": displayMethod,\n",
    "    \"class_func\": classMethod\n",
    "})\n",
    "  \n",
    "# creating objects\n",
    "obj = Geeks(\"constructor argument\")\n",
    "print(obj.constructor_arg)\n",
    "print(obj.string_attribute)\n",
    "print(obj.int_attribute)\n",
    "obj.func_arg(\"Geeks for Geeks\")\n",
    "Geeks.class_func(\"Class Dynamically Created !\")"
   ]
  }
 ],
 "metadata": {
  "kernelspec": {
   "display_name": "venv",
   "language": "python",
   "name": "python3"
  },
  "language_info": {
   "codemirror_mode": {
    "name": "ipython",
    "version": 3
   },
   "file_extension": ".py",
   "mimetype": "text/x-python",
   "name": "python",
   "nbconvert_exporter": "python",
   "pygments_lexer": "ipython3",
   "version": "3.9.1"
  },
  "orig_nbformat": 4
 },
 "nbformat": 4,
 "nbformat_minor": 2
}
