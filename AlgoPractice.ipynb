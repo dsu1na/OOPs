{
 "cells": [
  {
   "cell_type": "markdown",
   "metadata": {},
   "source": [
    "## Sliding window algorithm </br>\n",
    "\n",
    "- https://www.youtube.com/watch?v=FsIyn_oe3eo\n",
    "\n",
    "Select the longest sub string with exactly k distinct characters"
   ]
  },
  {
   "cell_type": "code",
   "execution_count": null,
   "metadata": {},
   "outputs": [],
   "source": [
    "def long_substring(s, k):\n",
    "    counter = {}\n",
    "    max_length = -1\n",
    "    i = 0\n",
    "    j = 0\n",
    "\n",
    "    for j in range(len(s)):\n",
    "        if s[j] not in counter:\n",
    "            counter[s[j]] = 1\n",
    "        else:\n",
    "            counter[s[j]] += 1\n",
    "            \n",
    "        while len(counter) > k:\n",
    "            if counter[s[i]] > 1:\n",
    "                counter[s[i]] -= 1\n",
    "            else:\n",
    "                del counter[s[i]] \n",
    "            i += 1\n",
    "        \n",
    "        if len(counter) == k:\n",
    "            current_length = j-i+1\n",
    "            max_length  = max(max_length, current_length)\n",
    "        \n",
    "\n",
    "    return max_length\n",
    "        \n"
   ]
  },
  {
   "cell_type": "markdown",
   "metadata": {},
   "source": [
    "## Subarray with a given sum"
   ]
  },
  {
   "cell_type": "code",
   "execution_count": null,
   "metadata": {},
   "outputs": [],
   "source": [
    "def sub_array(arr, n , s):\n",
    "    if s<1:\n",
    "        return [-1]\n",
    "    i = 0\n",
    "    j = 0\n",
    "    ret_arr = [-1]\n",
    "    sum_arr = 0\n",
    "\n",
    "    for j in range(n):\n",
    "        sum_arr += arr[j]\n",
    "\n",
    "        while sum_arr > s:\n",
    "            sum_arr -= arr[i]\n",
    "            i += 1\n",
    "        \n",
    "        if sum_arr == s:\n",
    "            ret_arr = [i+1, j+1]\n",
    "            return ret_arr\n",
    "    \n",
    "    return ret_arr\n",
    "\n",
    "sub_array([1,2,3,7,5], 5, 12)\n",
    "        "
   ]
  },
  {
   "cell_type": "markdown",
   "metadata": {},
   "source": [
    "## Kadane's algorithm"
   ]
  },
  {
   "cell_type": "code",
   "execution_count": 8,
   "metadata": {},
   "outputs": [],
   "source": [
    "def maxSubArrSum(arr, N):\n",
    "    sumi = 0\n",
    "    maxi = arr[0]\n",
    "\n",
    "    for i in range(len(arr)):\n",
    "        sumi += arr[i]\n",
    "        maxi = max(maxi, sumi)\n",
    "\n",
    "        if sumi < 0:\n",
    "            sumi = 0\n",
    "    \n",
    "    return maxi\n"
   ]
  },
  {
   "cell_type": "code",
   "execution_count": 9,
   "metadata": {},
   "outputs": [
    {
     "data": {
      "text/plain": [
       "5"
      ]
     },
     "execution_count": 9,
     "metadata": {},
     "output_type": "execute_result"
    }
   ],
   "source": [
    "maxSubArrSum([-3, 2, 3,-10], 4)\n",
    "\n",
    "#maxSubArrSum([-3, -1, -2,-10], 4)"
   ]
  },
  {
   "cell_type": "markdown",
   "metadata": {},
   "source": [
    "Given an array of N integers arr[] where each element represents the maximum length of the jump that can be made forward from that element. This means if arr[i] = x, then we can jump any distance y such that y ≤ x.\n",
    "Find the minimum number of jumps to reach the end of the array (starting from the first element). If an element is 0, then you cannot move through that element. </br>\n",
    "\n",
    "https://practice.geeksforgeeks.org/problems/minimum-number-of-jumps-1587115620/1?page=1&sortBy=submissions"
   ]
  },
  {
   "cell_type": "code",
   "execution_count": null,
   "metadata": {},
   "outputs": [],
   "source": [
    "def minJumps(arr, N):\n",
    "    "
   ]
  },
  {
   "cell_type": "markdown",
   "metadata": {},
   "source": [
    "## Find pair given difference"
   ]
  },
  {
   "cell_type": "code",
   "execution_count": 9,
   "metadata": {},
   "outputs": [
    {
     "name": "stdout",
     "output_type": "stream",
     "text": [
      "[52, 75, 83, 147, 160, 346, 504, 607, 706, 715, 737, 831, 844, 1023, 1031, 1292, 1304, 1364, 1553, 1589, 1657, 1857, 1911, 2165, 2215, 2221, 2269, 2319, 2606, 2842, 2900, 2999, 3141, 3312, 3327, 3333, 3544, 3549, 3550, 3615, 3655, 3715, 3737, 3943, 4057, 4154, 4166, 4289, 4338, 4380, 4394, 4663, 4734, 4734, 4855, 4863, 5040, 5108, 5315, 5322, 5485, 5485, 5512, 5544, 5569, 5600, 5685, 5735, 5756, 5813, 5819, 5905, 5938, 5941, 6064, 6073, 6083, 6104, 6313, 6473, 6546, 6794, 6933, 6963, 6966, 7028, 7066, 7116, 7201, 7282, 7408, 7659, 7728, 7795, 7878, 7896, 8033, 8066, 8290, 8624, 8782, 8961, 9033, 9036, 9081, 9170, 9191, 9319, 9336, 9340, 9372, 9385, 9501, 9660, 9730, 9831]\n"
     ]
    },
    {
     "data": {
      "text/plain": [
       "-1"
      ]
     },
     "execution_count": 9,
     "metadata": {},
     "output_type": "execute_result"
    }
   ],
   "source": [
    "def findPair(arr, L, N):\n",
    "    i=0\n",
    "    j=1\n",
    "    arr.sort()\n",
    "    print(arr)\n",
    "    while(i<= (L-1) & j <= (L-1)):\n",
    "\n",
    "        if ((i!=j) & (arr[j] - arr[i] == N)):\n",
    "            print(f\"\\n {arr[i]} and {arr[j]}\")\n",
    "            return 1\n",
    "        elif arr[j] - arr[i] < N:\n",
    "            j += 1\n",
    "        else:\n",
    "            i += 1\n",
    "    \n",
    "    return -1\n",
    "\n",
    "findPair([], 116, 265)"
   ]
  },
  {
   "cell_type": "markdown",
   "metadata": {},
   "source": [
    "### Pivot or equilibrium point"
   ]
  },
  {
   "cell_type": "code",
   "execution_count": 5,
   "metadata": {},
   "outputs": [
    {
     "name": "stdout",
     "output_type": "stream",
     "text": [
      "None\n"
     ]
    }
   ],
   "source": [
    "def findEquilibrium(a,n):\n",
    "    # Code here\n",
    "    arr_sum = sum(a)\n",
    "    left_sum = 0\n",
    "    if n == 1:\n",
    "        return -1\n",
    "    else:\n",
    "        for i, num in enumerate(a):\n",
    "            arr_sum -= num\n",
    "            \n",
    "            if left_sum == arr_sum:\n",
    "                return i\n",
    "            \n",
    "            left_sum += num\n",
    "        return -1"
   ]
  },
  {
   "cell_type": "markdown",
   "metadata": {},
   "source": [
    "## Sub matrix problem\n",
    "\n",
    "- https://practice.geeksforgeeks.org/problems/max-sum-submatrix2725/1 </br>\n",
    "- https://www.youtube.com/watch?v=NE11cx3Si1A </br>"
   ]
  },
  {
   "cell_type": "code",
   "execution_count": null,
   "metadata": {},
   "outputs": [],
   "source": []
  },
  {
   "cell_type": "markdown",
   "metadata": {},
   "source": [
    "## Pair count\n",
    "\n",
    "- https://practice.geeksforgeeks.org/problems/count-pairs-with-given-sum5022/1?page=1&company[]=Goldman%20Sachs&sortBy=submissions </br>"
   ]
  },
  {
   "cell_type": "code",
   "execution_count": null,
   "metadata": {},
   "outputs": [],
   "source": [
    "def getPairsCount(self, arr, n, k):\n",
    "    # code here\n",
    "    map = {}\n",
    "    count = 0\n",
    "    \n",
    "    for i in range(n):\n",
    "        if (k - arr[i]) in map:\n",
    "            count += map[k - arr[i]]\n",
    "        if arr[i] in map:\n",
    "            map[arr[i]] += 1\n",
    "        else:\n",
    "            map[arr[i]] = 1\n",
    "    \n",
    "    return count"
   ]
  }
 ],
 "metadata": {
  "kernelspec": {
   "display_name": "base",
   "language": "python",
   "name": "python3"
  },
  "language_info": {
   "codemirror_mode": {
    "name": "ipython",
    "version": 3
   },
   "file_extension": ".py",
   "mimetype": "text/x-python",
   "name": "python",
   "nbconvert_exporter": "python",
   "pygments_lexer": "ipython3",
   "version": "3.8.5"
  },
  "orig_nbformat": 4
 },
 "nbformat": 4,
 "nbformat_minor": 2
}
